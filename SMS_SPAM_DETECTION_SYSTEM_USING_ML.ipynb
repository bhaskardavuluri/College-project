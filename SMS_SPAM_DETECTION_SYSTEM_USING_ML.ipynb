{
  "cells": [
    {
      "cell_type": "code",
      "execution_count": null,
      "metadata": {
        "colab": {
          "base_uri": "https://localhost:8080/"
        },
        "id": "tGfiYXMjk0EE",
        "outputId": "cc84a78b-94dd-4195-adfd-955b56c8f838"
      },
      "outputs": [
        {
          "name": "stdout",
          "output_type": "stream",
          "text": [
            "  Label                                            Message\n",
            "0   ham                  Happy Birthday! Have a great day!\n",
            "1  spam  Limited time offer! Get 50% off on all product...\n",
            "2   ham                                  Hey, how are you?\n",
            "3   ham               Let's catch up over coffee tomorrow.\n",
            "4   ham               Don't forget to bring the documents.\n"
          ]
        }
      ],
      "source": [
        "import pandas as pd\n",
        "import numpy as np\n",
        "\n",
        "# Set the random seed for reproducibility\n",
        "np.random.seed(42)\n",
        "\n",
        "# Define some sample messages\n",
        "ham_messages = [\n",
        "    \"Hey, how are you?\",\n",
        "    \"Don't forget to bring the documents.\",\n",
        "    \"Let's catch up over coffee tomorrow.\",\n",
        "    \"See you at the meeting at 10 AM.\",\n",
        "    \"Happy Birthday! Have a great day!\",\n",
        "]\n",
        "\n",
        "spam_messages = [\n",
        "    \"Congratulations! You've won a $1000 gift card. Click here to claim.\",\n",
        "    \"You've been selected for a free cruise. Call now!\",\n",
        "    \"Get a loan with low interest rates. Apply today.\",\n",
        "    \"Win a brand new car. Text WIN to 12345.\",\n",
        "    \"Limited time offer! Get 50% off on all products. Visit our website now.\",\n",
        "]\n",
        "\n",
        "# Generate synthetic data\n",
        "n_samples = 500\n",
        "labels = np.random.choice(['ham', 'spam'], n_samples)\n",
        "messages = []\n",
        "\n",
        "for label in labels:\n",
        "    if label == 'ham':\n",
        "        messages.append(np.random.choice(ham_messages))\n",
        "    else:\n",
        "        messages.append(np.random.choice(spam_messages))\n",
        "\n",
        "# Create a DataFrame\n",
        "synthetic_data = pd.DataFrame({\n",
        "    'Label': labels,\n",
        "    'Message': messages\n",
        "})\n",
        "\n",
        "# Display the first few rows\n",
        "print(synthetic_data.head())\n",
        "\n",
        "# Save to a CSV file\n",
        "synthetic_data.to_csv('synthetic_sms_spam_data.csv', index=False)\n"
      ]
    },
    {
      "cell_type": "code",
      "execution_count": null,
      "metadata": {},
      "outputs": [],
      "source": []
    },
    {
      "cell_type": "code",
      "execution_count": null,
      "metadata": {
        "colab": {
          "base_uri": "https://localhost:8080/"
        },
        "id": "XGiGGdAXlIOR",
        "outputId": "d0af8312-5c38-4144-b5ef-d28783648fe3"
      },
      "outputs": [
        {
          "name": "stdout",
          "output_type": "stream",
          "text": [
            "Accuracy: 1.0\n",
            "              precision    recall  f1-score   support\n",
            "\n",
            "           0       1.00      1.00      1.00        65\n",
            "           1       1.00      1.00      1.00        60\n",
            "\n",
            "    accuracy                           1.00       125\n",
            "   macro avg       1.00      1.00      1.00       125\n",
            "weighted avg       1.00      1.00      1.00       125\n",
            "\n"
          ]
        }
      ],
      "source": [
        "import pandas as pd\n",
        "from sklearn.model_selection import train_test_split\n",
        "from sklearn.feature_extraction.text import CountVectorizer\n",
        "from sklearn.naive_bayes import MultinomialNB\n",
        "from sklearn.metrics import accuracy_score, classification_report\n",
        "import joblib\n",
        "\n",
        "# Load the synthetic dataset\n",
        "data = pd.read_csv('synthetic_sms_spam_data.csv')\n",
        "\n",
        "# Preprocess data\n",
        "data['Label'] = data['Label'].map({'ham': 0, 'spam': 1})\n",
        "\n",
        "# Split data into training and testing sets\n",
        "X_train, X_test, y_train, y_test = train_test_split(data['Message'], data['Label'], test_size=0.25, random_state=42)\n",
        "\n",
        "# Vectorize text data\n",
        "vectorizer = CountVectorizer()\n",
        "X_train = vectorizer.fit_transform(X_train)\n",
        "X_test = vectorizer.transform(X_test)\n",
        "\n",
        "# Train the model\n",
        "model = MultinomialNB()\n",
        "model.fit(X_train, y_train)\n",
        "\n",
        "# Save the model and vectorizer\n",
        "joblib.dump(model, 'spam_classifier_model.pkl')\n",
        "joblib.dump(vectorizer, 'vectorizer.pkl')\n",
        "\n",
        "# Evaluate the model\n",
        "y_pred = model.predict(X_test)\n",
        "accuracy = accuracy_score(y_test, y_pred)\n",
        "report = classification_report(y_test, y_pred)\n",
        "print(f'Accuracy: {accuracy}')\n",
        "print(report)\n"
      ]
    },
    {
      "cell_type": "code",
      "execution_count": null,
      "metadata": {
        "colab": {
          "base_uri": "https://localhost:8080/"
        },
        "id": "c_-u8MyJlRjT",
        "outputId": "9da6d633-654d-48ee-f18b-8faebc852405"
      },
      "outputs": [
        {
          "name": "stdout",
          "output_type": "stream",
          "text": [
            "                                             Message Prediction\n",
            "0  Hey, don't forget about our meeting tomorrow a...        ham\n",
            "1  Congratulations! You've won a free ticket to t...       spam\n",
            "2           Can we reschedule our call to next week?       spam\n",
            "3  Get a loan approved instantly with no credit c...       spam\n"
          ]
        }
      ],
      "source": [
        "import joblib\n",
        "import pandas as pd\n",
        "\n",
        "# Load the trained model and vectorizer\n",
        "model = joblib.load('spam_classifier_model.pkl')\n",
        "vectorizer = joblib.load('vectorizer.pkl')\n",
        "\n",
        "# Sample messages for prediction\n",
        "new_messages = [\n",
        "    \"Hey, don't forget about our meeting tomorrow at 10 AM.\",\n",
        "    \"Congratulations! You've won a free ticket to the Bahamas. Click here to claim.\",\n",
        "    \"Can we reschedule our call to next week?\",\n",
        "    \"Get a loan approved instantly with no credit check. Apply now!\",\n",
        "]\n",
        "\n",
        "# Vectorize new messages\n",
        "new_messages_vectorized = vectorizer.transform(new_messages)\n",
        "\n",
        "# Predict whether the messages are spam or ham\n",
        "predictions = model.predict(new_messages_vectorized)\n",
        "\n",
        "# Create a DataFrame to display the results\n",
        "prediction_results = pd.DataFrame({\n",
        "    'Message': new_messages,\n",
        "    'Prediction': ['spam' if pred == 1 else 'ham' for pred in predictions]\n",
        "})\n",
        "\n",
        "# Display the predictions\n",
        "print(prediction_results)\n"
      ]
    }
  ],
  "metadata": {
    "colab": {
      "provenance": []
    },
    "kernelspec": {
      "display_name": "Python 3",
      "name": "python3"
    },
    "language_info": {
      "name": "python"
    }
  },
  "nbformat": 4,
  "nbformat_minor": 0
}
